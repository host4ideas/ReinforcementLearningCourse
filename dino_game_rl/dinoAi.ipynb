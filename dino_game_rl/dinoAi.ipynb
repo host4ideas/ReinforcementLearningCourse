{
 "cells": [
  {
   "attachments": {},
   "cell_type": "markdown",
   "metadata": {},
   "source": [
    "# 1. Install and Import Dependencies"
   ]
  },
  {
   "cell_type": "code",
   "execution_count": null,
   "metadata": {},
   "outputs": [],
   "source": [
    "# Execute this first\n",
    "%pip install git+https://github.com/DLR-RM/stable-baselines3\n",
    "# Then install the package with extras (gymnasium, atari, etc)\n",
    "%pip install stable-baselines3[extra]"
   ]
  },
  {
   "cell_type": "code",
   "execution_count": null,
   "metadata": {},
   "outputs": [],
   "source": [
    "# Install CUDA acceleration\n",
    "%pip install torch torchvision torchaudio --index-url https://download.pytorch.org/whl/cu117"
   ]
  },
  {
   "cell_type": "code",
   "execution_count": null,
   "metadata": {},
   "outputs": [],
   "source": [
    "# You need to have tesseract installed: https://github.com/UB-Mannheim/tesseract/wiki\n",
    "%pip install --upgrade pip\n",
    "%pip install --upgrade Pillow\n",
    "%pip install pytesseract"
   ]
  },
  {
   "cell_type": "code",
   "execution_count": null,
   "metadata": {},
   "outputs": [],
   "source": [
    "# Screen capture and game control, using MSS instead of OpenCV\n",
    "%pip install mss pydirectinput"
   ]
  },
  {
   "cell_type": "code",
   "execution_count": null,
   "metadata": {},
   "outputs": [],
   "source": [
    "# MSS used for screen cap\n",
    "from mss import mss\n",
    "# Sending commands\n",
    "import pydirectinput\n",
    "# OpenCV allows us to do frame processing\n",
    "import cv2\n",
    "# Transformational framework\n",
    "import numpy as np\n",
    "# OCR for game over extraction\n",
    "import pytesseract\n",
    "# Visualize captured frames\n",
    "from matplotlib import pyplot as plt\n",
    "# For pauses\n",
    "import time\n",
    "# Environment components\n",
    "from gymnasium import Env\n",
    "from gymnasium.spaces import Box, Discrete"
   ]
  },
  {
   "attachments": {},
   "cell_type": "markdown",
   "metadata": {},
   "source": [
    "# 2. Build the Environment"
   ]
  }
 ],
 "metadata": {
  "kernelspec": {
   "display_name": ".venv",
   "language": "python",
   "name": "python3"
  },
  "language_info": {
   "codemirror_mode": {
    "name": "ipython",
    "version": 3
   },
   "file_extension": ".py",
   "mimetype": "text/x-python",
   "name": "python",
   "nbconvert_exporter": "python",
   "pygments_lexer": "ipython3",
   "version": "3.11.4"
  },
  "orig_nbformat": 4
 },
 "nbformat": 4,
 "nbformat_minor": 2
}
