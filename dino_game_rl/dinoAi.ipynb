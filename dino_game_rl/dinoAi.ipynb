{
 "cells": [
  {
   "attachments": {},
   "cell_type": "markdown",
   "metadata": {},
   "source": [
    "# 1. Install and Import Dependencies\n"
   ]
  },
  {
   "cell_type": "code",
   "execution_count": null,
   "metadata": {},
   "outputs": [],
   "source": [
    "# Execute this first\n",
    "%pip install git+https://github.com/DLR-RM/stable-baselines3\n",
    "# Then install the package with extras (gymnasium, atari, etc)\n",
    "%pip install stable-baselines3[extra]"
   ]
  },
  {
   "cell_type": "code",
   "execution_count": null,
   "metadata": {},
   "outputs": [],
   "source": [
    "# Install CUDA acceleration\n",
    "%pip install torch torchvision torchaudio --index-url https://download.pytorch.org/whl/cu117"
   ]
  },
  {
   "cell_type": "code",
   "execution_count": null,
   "metadata": {},
   "outputs": [],
   "source": [
    "# You need to have tesseract installed: https://github.com/UB-Mannheim/tesseract/wiki\n",
    "%pip install --upgrade pip\n",
    "%pip install --upgrade Pillow\n",
    "%pip install pytesseract"
   ]
  },
  {
   "cell_type": "code",
   "execution_count": null,
   "metadata": {},
   "outputs": [],
   "source": [
    "# Screen capture and game control, using MSS instead of OpenCV\n",
    "%pip install mss pydirectinput"
   ]
  },
  {
   "cell_type": "code",
   "execution_count": null,
   "metadata": {},
   "outputs": [],
   "source": [
    "import os\n",
    "# MSS used for screen cap\n",
    "from mss import mss\n",
    "# Sending commands\n",
    "import pydirectinput\n",
    "# OpenCV allows us to do frame processing\n",
    "import cv2\n",
    "# Transformational framework\n",
    "import numpy as np\n",
    "# OCR for game over extraction\n",
    "# Add tesseract to path (Windows = C:\\Program Files\\Tesseract-OCR)\n",
    "import pytesseract\n",
    "# Visualize captured frames\n",
    "from matplotlib import pyplot as plt\n",
    "# For pauses\n",
    "import time\n",
    "# Environment components\n",
    "from gymnasium import Env\n",
    "from gymnasium.spaces import Box, Discrete"
   ]
  },
  {
   "attachments": {},
   "cell_type": "markdown",
   "metadata": {},
   "source": [
    "# 2. Build the Environment\n"
   ]
  },
  {
   "attachments": {},
   "cell_type": "markdown",
   "metadata": {},
   "source": [
    "## 2.1. Create Environment\n"
   ]
  },
  {
   "cell_type": "code",
   "execution_count": null,
   "metadata": {},
   "outputs": [],
   "source": [
    "class WebGame(Env):\n",
    "    def __init__(self):\n",
    "        super().__init__()\n",
    "        # Image\n",
    "        self.observation_space = Box(\n",
    "            low=0, high=255, shape=(1, 83, 100), dtype=np.uint8)\n",
    "        # Action space\n",
    "        self.action_space = Discrete(3)\n",
    "        # Define extraction parameters for the game\n",
    "        self.cap = mss()\n",
    "        self.game_location = {'top': 300,\n",
    "                              'left': 0, 'width': 800, 'height': 500}\n",
    "        self.done_location = {'top': 405,\n",
    "                              'left': 650, 'width': 300, 'height': 70}\n",
    "\n",
    "    def step(self, action):\n",
    "        # Action key - 0 = Space, 1 = Duck, 2 = No action (no op)\n",
    "        action_map = {\n",
    "            0: 'space',\n",
    "            1: 'down',\n",
    "            2: 'no_op'\n",
    "        }\n",
    "\n",
    "        if action != 2:\n",
    "            pydirectinput.press(action_map[action])\n",
    "\n",
    "        # Checking whether the game is done\n",
    "        done, done_cap = self.get_done()\n",
    "\n",
    "        # Get next observation\n",
    "        new_observation = self.get_observation()\n",
    "\n",
    "        # Reward - we get a point for every point we are alive\n",
    "        reward = 1\n",
    "\n",
    "        # Info dictionary\n",
    "        info = {}\n",
    "\n",
    "        return new_observation, reward, done, False, info\n",
    "\n",
    "    def render(self):\n",
    "        cap = np.array(self.cap.grab(self.game_location))[:, :, :3]\n",
    "\n",
    "        # Run once and show windows until q is pressed\n",
    "        cv2.imshow(\"Game\", cap)  # This will open an independent window\n",
    "        if cv2.waitKey(1) & 0xFF == ord('q'):  # quit when 'q' is pressed\n",
    "            self.close()\n",
    "\n",
    "        # Run in realtime until q is pressed\n",
    "        # while True:\n",
    "        #     cv2.imshow(\"Game\", cap)  # This will open an independent window\n",
    "        #     if cv2.waitKey(1) & 0xFF == ord('q'):  # quit when 'q' is pressed\n",
    "        #         cv2.destroyAllWindows()\n",
    "        #         # normally unnecessary, but it fixes a bug on MacOS where the window doesn't close\n",
    "        #         cv2.waitKey(1)\n",
    "        #         break\n",
    "\n",
    "    def reset(self, seed=None):\n",
    "        super().reset(seed=seed)\n",
    "        time.sleep(1)\n",
    "        pydirectinput.click(x=150, y=150)\n",
    "        pydirectinput.press('space')\n",
    "        info = {}\n",
    "        return self.get_observation(), info\n",
    "\n",
    "    # Closes down the observation\n",
    "    def close(self):\n",
    "        cv2.destroyAllWindows()\n",
    "\n",
    "    # Get the part of observation of the game we want\n",
    "    def get_observation(self):\n",
    "        # Get screen capture of the game\n",
    "        # Grab returns an array an imagen with four channels, we only need 3 (height, width, first three channels)\n",
    "        raw = np.array(self.cap.grab(self.game_location))[:, :, :3]\n",
    "        # Grayscale\n",
    "        gray = cv2.cvtColor(raw, cv2.COLOR_BGR2GRAY)\n",
    "        # Resize\n",
    "        resized = cv2.resize(gray, (100, 83))\n",
    "        # Add channels first\n",
    "        channel = np.reshape(resized, (1, 83, 100))\n",
    "        return channel\n",
    "\n",
    "    # Get the done text using OCR\n",
    "    def get_done(self):\n",
    "        # Get done screen, take only three channels (np.array(env.get_done()).shape = (70, 660, 4))\n",
    "        done_cap = np.array(self.cap.grab(self.done_location))[:, :, :3]\n",
    "\n",
    "        # Valid done text\n",
    "        done_strings = ['GAME', 'GAHE', 'Go A', 'G A ']\n",
    "\n",
    "        done = False\n",
    "        # res - text extracted from cap\n",
    "        res = pytesseract.image_to_string(done_cap)[:4]\n",
    "\n",
    "        if res in done_strings:\n",
    "            done = True\n",
    "\n",
    "        return done, done_cap\n",
    "\n",
    "\n",
    "# Game instance\n",
    "env = WebGame()"
   ]
  },
  {
   "cell_type": "code",
   "execution_count": null,
   "metadata": {},
   "outputs": [],
   "source": [
    "# Get the observation space image\n",
    "plt.imshow(env.observation_space.sample()[0])"
   ]
  },
  {
   "attachments": {},
   "cell_type": "markdown",
   "metadata": {},
   "source": [
    "### Dino capture\n"
   ]
  },
  {
   "cell_type": "code",
   "execution_count": null,
   "metadata": {},
   "outputs": [],
   "source": [
    "env.get_observation()"
   ]
  },
  {
   "cell_type": "code",
   "execution_count": null,
   "metadata": {},
   "outputs": [],
   "source": [
    "# Get a screen capture with image procesing\n",
    "plt.imshow(env.get_observation()[0])"
   ]
  },
  {
   "cell_type": "code",
   "execution_count": null,
   "metadata": {},
   "outputs": [],
   "source": [
    "# Get a screen capture with colors\n",
    "plt.imshow(cv2.cvtColor(env.get_observation()[0], cv2.COLOR_RGB2BGR))"
   ]
  },
  {
   "attachments": {},
   "cell_type": "markdown",
   "metadata": {},
   "source": [
    "### Done capture\n"
   ]
  },
  {
   "cell_type": "code",
   "execution_count": null,
   "metadata": {},
   "outputs": [],
   "source": [
    "done, cap_done = env.get_done()"
   ]
  },
  {
   "cell_type": "code",
   "execution_count": null,
   "metadata": {},
   "outputs": [],
   "source": [
    "done"
   ]
  },
  {
   "cell_type": "code",
   "execution_count": null,
   "metadata": {},
   "outputs": [],
   "source": [
    "plt.imshow(cap_done)"
   ]
  },
  {
   "attachments": {},
   "cell_type": "markdown",
   "metadata": {},
   "source": [
    "## 2.2. Test Environment\n"
   ]
  },
  {
   "cell_type": "code",
   "execution_count": null,
   "metadata": {},
   "outputs": [],
   "source": [
    "for episode in range(10):\n",
    "    obs = env.reset()\n",
    "    done = False\n",
    "    total_reward = 0\n",
    "\n",
    "    while not done:\n",
    "        obs, reward, done, truncated, info = env.step(\n",
    "            env.action_space.sample())\n",
    "        total_reward += reward\n",
    "    print(f'Total reward for episode {episode} is {total_reward}')"
   ]
  },
  {
   "attachments": {},
   "cell_type": "markdown",
   "metadata": {},
   "source": [
    "# 3. Train the Model\n"
   ]
  },
  {
   "cell_type": "code",
   "execution_count": null,
   "metadata": {},
   "outputs": [],
   "source": [
    "CHECKPOINT_DIR = './train/'\n",
    "LOG_DIR = './logs/'"
   ]
  },
  {
   "attachments": {},
   "cell_type": "markdown",
   "metadata": {},
   "source": [
    "## 3.1. Create Callback\n"
   ]
  },
  {
   "cell_type": "code",
   "execution_count": null,
   "metadata": {},
   "outputs": [],
   "source": [
    "from stable_baselines3.common.callbacks import EvalCallback, BaseCallback\n",
    "from stable_baselines3.common import env_checker"
   ]
  },
  {
   "cell_type": "code",
   "execution_count": null,
   "metadata": {},
   "outputs": [],
   "source": [
    "# Check that the environment is OK\n",
    "env_checker.check_env(env)"
   ]
  },
  {
   "attachments": {},
   "cell_type": "markdown",
   "metadata": {},
   "source": [
    "### Custom Callback\n"
   ]
  },
  {
   "cell_type": "code",
   "execution_count": null,
   "metadata": {},
   "outputs": [],
   "source": [
    "class TraingAndLoggingCallback(BaseCallback):\n",
    "    def _init_(self, check_freq: int, save_path, verbose=1):\n",
    "        super(TraingAndLoggingCallback, self).__init__(verbose)\n",
    "        self.check_freq = check_freq\n",
    "        self.save_path = save_path\n",
    "\n",
    "        if self.save_path is not None:\n",
    "            os.makedirs(self.save_path, exist_ok=True)\n",
    "\n",
    "    def _on_step(self):\n",
    "        if self.n_calls % self.check_freq == 0:\n",
    "            model_path = os.path.join(\n",
    "                self.save_path, 'best_model_{}'.format(self.n_calls))\n",
    "            self.model.save(model_path)\n",
    "        return True"
   ]
  },
  {
   "cell_type": "code",
   "execution_count": null,
   "metadata": {},
   "outputs": [],
   "source": [
    "callback = TraingAndLoggingCallback(check_freq=1000, save_path=CHECKPOINT_DIR)"
   ]
  },
  {
   "attachments": {},
   "cell_type": "markdown",
   "metadata": {},
   "source": [
    "### EvalCallback\n"
   ]
  },
  {
   "cell_type": "code",
   "execution_count": null,
   "metadata": {},
   "outputs": [],
   "source": [
    "# Use deterministic actions for evaluation\n",
    "eval_callback = EvalCallback(env, best_model_save_path=CHECKPOINT_DIR,\n",
    "                             log_path=\"./logs/\", eval_freq=1000,\n",
    "                             deterministic=True, render=False)"
   ]
  },
  {
   "attachments": {},
   "cell_type": "markdown",
   "metadata": {},
   "source": [
    "## 3.2. Build DQN and Train\n"
   ]
  },
  {
   "cell_type": "code",
   "execution_count": null,
   "metadata": {},
   "outputs": [],
   "source": [
    "from stable_baselines3 import DQN"
   ]
  },
  {
   "cell_type": "code",
   "execution_count": null,
   "metadata": {},
   "outputs": [],
   "source": [
    "# Create the DQN model\n",
    "model = DQN('CnnPolicy', env, tensorboard_log=LOG_DIR,\n",
    "            verbose=1, buffer_size=600000, learning_starts=1000)"
   ]
  },
  {
   "cell_type": "code",
   "execution_count": null,
   "metadata": {},
   "outputs": [],
   "source": [
    "model.learn(total_timesteps=3000, callback=eval_callback)"
   ]
  },
  {
   "attachments": {},
   "cell_type": "markdown",
   "metadata": {},
   "source": [
    "# 4. Test out Model\n"
   ]
  },
  {
   "cell_type": "code",
   "execution_count": null,
   "metadata": {},
   "outputs": [],
   "source": [
    "model = DQN.load(os.path.join(CHECKPOINT_DIR, 'best_model'))\n",
    "\n",
    "for episode in range(10):\n",
    "    # Reset returns tuple (obs, info)\n",
    "    obs = env.reset()[0]\n",
    "    done = False\n",
    "    total_reward = 0\n",
    " \n",
    "    while not done:\n",
    "        # action, _states = model.predict(obs[0][:, :, :100])\n",
    "        action, _ = model.predict(obs)\n",
    "        obs, reward, done, truncated, info = env.step(int(action))\n",
    "        total_reward += reward\n",
    "    print(f'Total reward for episode {episode} is {total_reward}')"
   ]
  }
 ],
 "metadata": {
  "kernelspec": {
   "display_name": ".venv",
   "language": "python",
   "name": "python3"
  },
  "language_info": {
   "codemirror_mode": {
    "name": "ipython",
    "version": 3
   },
   "file_extension": ".py",
   "mimetype": "text/x-python",
   "name": "python",
   "nbconvert_exporter": "python",
   "pygments_lexer": "ipython3",
   "version": "3.11.4"
  },
  "orig_nbformat": 4
 },
 "nbformat": 4,
 "nbformat_minor": 2
}
