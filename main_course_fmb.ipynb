{
 "cells": [
  {
   "attachments": {},
   "cell_type": "markdown",
   "metadata": {},
   "source": [
    "# 1. Import dependencies\n"
   ]
  },
  {
   "cell_type": "code",
   "execution_count": null,
   "metadata": {},
   "outputs": [],
   "source": [
    "# Execute this first\n",
    "%pip install git+https://github.com/DLR-RM/stable-baselines3\n",
    "# Then install the package with extras (gymnasium, atari, etc)\n",
    "%pip install stable-baselines3[extra]"
   ]
  },
  {
   "cell_type": "code",
   "execution_count": null,
   "metadata": {},
   "outputs": [],
   "source": [
    "import os\n",
    "import gymnasium as gym\n",
    "import time\n",
    "# Algorithm\n",
    "from stable_baselines3 import PPO\n",
    "# This allows to vectorize our environment for parallel training\n",
    "from stable_baselines3.common.vec_env import DummyVecEnv\n",
    "# Makes easier to evaluate how our model is running\n",
    "from stable_baselines3.common.evaluation import evaluate_policy"
   ]
  },
  {
   "attachments": {},
   "cell_type": "markdown",
   "metadata": {},
   "source": [
    "# 2. Load Environment\n"
   ]
  },
  {
   "cell_type": "code",
   "execution_count": null,
   "metadata": {},
   "outputs": [],
   "source": [
    "environment_name = 'CartPole-v1'\n",
    "env = gym.make(environment_name, render_mode='human')\n",
    "# Environment functions: reset(), render(), step(), close()"
   ]
  },
  {
   "cell_type": "code",
   "execution_count": null,
   "metadata": {},
   "outputs": [],
   "source": [
    "# reset the environment,\n",
    "# returns an initial state\n",
    "(state, _) = env.reset()\n",
    "# states are\n",
    "# cart position, cart velocity\n",
    "# pole angle, pole angular velocity\n",
    "\n",
    "# # ENVIRONMENT INFORMATION\n",
    "# # observation space limits\n",
    "# env.observation_space\n",
    "\n",
    "# # upper limit\n",
    "# env.observation_space.high\n",
    "\n",
    "# # lower limit\n",
    "# env.observation_space.low\n",
    "\n",
    "# # action space\n",
    "# env.action_space\n",
    "\n",
    "# # all the specs\n",
    "# env.spec\n",
    "\n",
    "# # maximum number of steps per episode\n",
    "# env.spec.max_episode_steps\n",
    "\n",
    "# # reward threshold per episode\n",
    "# env.spec.reward_threshold\n",
    "\n",
    "# SIMULATE ENVIRONMENT\n",
    "episodeNumber = 5\n",
    "timeSteps = 100\n",
    "\n",
    "# An episode will be a full run of the game within the environment\n",
    "# Some environments have a fixed apisode length e.g.: CartPole, others are continuous\n",
    "# e.g.: Breakout play until you run out of lives\n",
    "for episodeIndex in range(episodeNumber):\n",
    "    # Initial set of observations for the environment, four key components:\n",
    "    # agent, action, environment and observations + rewards\n",
    "    # env.observation_space = Box([])\n",
    "    initial_state = env.reset()\n",
    "    print(episodeIndex)\n",
    "    # render the environment\n",
    "    env.render()\n",
    "    appendedObservations = []\n",
    "    score = 0\n",
    "\n",
    "    for timeIndex in range(timeSteps):\n",
    "        print(timeIndex)\n",
    "        random_action = env.action_space.sample()\n",
    "        # Apply an action to the environment\n",
    "        # Returns: (array([ 0.12885198,  0.56016594, -0.22173828, -1.1977195 ], dtype=float32), ---> Next set of observations\n",
    "        #  1.0, ---> Reward\n",
    "        #  True, ---> Wether or not the episode is done\n",
    "        #  False,\n",
    "        #  {})\n",
    "        observation, reward, terminated, truncated, info = env.step(\n",
    "            random_action)\n",
    "\n",
    "        appendedObservations.append(observation)\n",
    "        score += reward\n",
    "\n",
    "        time.sleep(0.1)\n",
    "\n",
    "        if (terminated):\n",
    "            print('Episode: {} Score: {}'.format(episodeIndex, score))\n",
    "            time.sleep(1)\n",
    "            break\n",
    "# Close render frame\n",
    "env.close()"
   ]
  },
  {
   "attachments": {},
   "cell_type": "markdown",
   "metadata": {},
   "source": [
    "# 3. Train an RL Model\n"
   ]
  },
  {
   "cell_type": "code",
   "execution_count": null,
   "metadata": {},
   "outputs": [],
   "source": [
    "log_path = os.path.join('Training', 'Logs')\n",
    "\n",
    "env = gym.make(environment_name)\n",
    "env = DummyVecEnv({lambda: env})\n",
    "model = PPO('MlpPolicy', env, verbose=1, tensorboard_log=log_path)"
   ]
  },
  {
   "cell_type": "code",
   "execution_count": null,
   "metadata": {},
   "outputs": [],
   "source": [
    "model.learn(total_timesteps=20000)"
   ]
  },
  {
   "attachments": {},
   "cell_type": "markdown",
   "metadata": {},
   "source": [
    "# 4. Save and reload model\n"
   ]
  },
  {
   "cell_type": "code",
   "execution_count": null,
   "metadata": {},
   "outputs": [],
   "source": [
    "PPO_Path = os.path.join('Training', 'Saved Models', 'PPO_Model_Cartpole')"
   ]
  },
  {
   "cell_type": "code",
   "execution_count": null,
   "metadata": {},
   "outputs": [],
   "source": [
    "# Save\n",
    "model.save(PPO_Path)"
   ]
  },
  {
   "cell_type": "code",
   "execution_count": null,
   "metadata": {},
   "outputs": [],
   "source": [
    "del model"
   ]
  },
  {
   "cell_type": "code",
   "execution_count": null,
   "metadata": {},
   "outputs": [],
   "source": [
    "# Reload\n",
    "model = PPO.load(PPO_Path, env=env)"
   ]
  },
  {
   "cell_type": "code",
   "execution_count": null,
   "metadata": {},
   "outputs": [],
   "source": [
    "model.learn(total_timesteps=10000)"
   ]
  },
  {
   "attachments": {},
   "cell_type": "markdown",
   "metadata": {},
   "source": [
    "In some algorithms you will get:\n",
    "\n",
    "-   ep_len_mean: on average how long a particular episode lasted before done\n",
    "-   ep_rew_mean: the average reward that the agent accumulated per episode\n"
   ]
  },
  {
   "attachments": {},
   "cell_type": "markdown",
   "metadata": {},
   "source": [
    "# 5. Evaluation\n"
   ]
  },
  {
   "cell_type": "code",
   "execution_count": null,
   "metadata": {},
   "outputs": [],
   "source": [
    "evaluate_policy(model, env, n_eval_episodes=10, render=True)"
   ]
  },
  {
   "cell_type": "code",
   "execution_count": null,
   "metadata": {},
   "outputs": [],
   "source": [
    "# Close environment\n",
    "env.close()"
   ]
  },
  {
   "attachments": {},
   "cell_type": "markdown",
   "metadata": {},
   "source": [
    "# 6. Testing the agent\n"
   ]
  },
  {
   "cell_type": "code",
   "execution_count": null,
   "metadata": {},
   "outputs": [],
   "source": [
    "# Test model in five episodes\n",
    "PPO_Path = os.path.join('Training', 'Saved Models', 'PPO_Model_Cartpole')\n",
    "environment_name = 'CartPole-v1'\n",
    "env = gym.make(environment_name, render_mode='human')\n",
    "env = DummyVecEnv({lambda: env})\n",
    "model = PPO.load(PPO_Path, env=env)\n",
    "episodes = 5\n",
    "\n",
    "for episode in range(1, episodes + 1):\n",
    "    obs = env.reset()\n",
    "    done = False\n",
    "    score = 0\n",
    "    while not done:\n",
    "        action, _states = model.predict(obs)  # Use our model here\n",
    "        obs, reward, done, info = env.step(action)\n",
    "        score += reward\n",
    "        env.render()\n",
    "    print('Episode: {} Score: {}'.format(episode, score))"
   ]
  },
  {
   "cell_type": "code",
   "execution_count": null,
   "metadata": {},
   "outputs": [],
   "source": [
    "env.close()"
   ]
  },
  {
   "attachments": {},
   "cell_type": "markdown",
   "metadata": {},
   "source": [
    "# 7. Viewing Logs in Tensorboard\n"
   ]
  },
  {
   "cell_type": "code",
   "execution_count": null,
   "metadata": {},
   "outputs": [],
   "source": [
    "log_path = os.path.join('Training', 'Logs')\n",
    "training_log_path = os.path.join(log_path, 'PPO_2')"
   ]
  },
  {
   "cell_type": "code",
   "execution_count": null,
   "metadata": {},
   "outputs": [],
   "source": [
    "training_log_path"
   ]
  },
  {
   "cell_type": "code",
   "execution_count": null,
   "metadata": {},
   "outputs": [],
   "source": [
    "!tensorboard --logdir={training_log_path}\n",
    "# Go to http://localhost:6006/"
   ]
  },
  {
   "attachments": {},
   "cell_type": "markdown",
   "metadata": {},
   "source": []
  },
  {
   "attachments": {},
   "cell_type": "markdown",
   "metadata": {},
   "source": [
    "# 8. Adding a callback to the taining Stage\n"
   ]
  },
  {
   "cell_type": "code",
   "execution_count": null,
   "metadata": {},
   "outputs": [],
   "source": [
    "from stable_baselines3.common.callbacks import EvalCallback, StopTrainingOnRewardThreshold"
   ]
  },
  {
   "cell_type": "code",
   "execution_count": null,
   "metadata": {},
   "outputs": [],
   "source": [
    "save_path = os.path.join('Training', 'Saved Models')"
   ]
  },
  {
   "cell_type": "code",
   "execution_count": null,
   "metadata": {},
   "outputs": [],
   "source": [
    "stop_callback = StopTrainingOnRewardThreshold(reward_threshold=200, verbose=1)\n",
    "eval_callback = EvalCallback(env,\n",
    "                             callback_on_new_best=stop_callback,\n",
    "                             eval_freq=10000,\n",
    "                             best_model_save_path=save_path,\n",
    "                             verbose=1)"
   ]
  },
  {
   "cell_type": "code",
   "execution_count": null,
   "metadata": {},
   "outputs": [],
   "source": [
    "model = PPO('MlpPolicy', env, verbose=1, tensorboard_log=log_path)"
   ]
  },
  {
   "cell_type": "code",
   "execution_count": null,
   "metadata": {},
   "outputs": [],
   "source": [
    "# Cap training when reward reaches 200\n",
    "model.learn(total_timesteps=20000, callback=eval_callback)"
   ]
  },
  {
   "attachments": {},
   "cell_type": "markdown",
   "metadata": {},
   "source": [
    "# 9. Changing Policies\n"
   ]
  },
  {
   "cell_type": "code",
   "execution_count": null,
   "metadata": {},
   "outputs": [],
   "source": [
    "# You can simplify by typing: new_arch=(128, 128)\n",
    "net_arch = (dict(pi=[128, 128, 128, 128], vf=[128, 128, 128, 128]))"
   ]
  },
  {
   "cell_type": "code",
   "execution_count": null,
   "metadata": {},
   "outputs": [],
   "source": [
    "model = PPO('MlpPolicy', env, verbose=1, tensorboard_log=log_path,\n",
    "            policy_kwargs={'net_arch': net_arch})"
   ]
  },
  {
   "cell_type": "code",
   "execution_count": null,
   "metadata": {},
   "outputs": [],
   "source": [
    "model.learn(total_timesteps=20000, callback=eval_callback)"
   ]
  },
  {
   "attachments": {},
   "cell_type": "markdown",
   "metadata": {},
   "source": [
    "# 10. Using an Alternate Algorithm"
   ]
  },
  {
   "cell_type": "code",
   "execution_count": null,
   "metadata": {},
   "outputs": [],
   "source": [
    "from stable_baselines3 import DQN"
   ]
  },
  {
   "cell_type": "code",
   "execution_count": null,
   "metadata": {},
   "outputs": [],
   "source": [
    "env = gym.make(environment_name)\n",
    "# Make DQN model\n",
    "model = DQN('MlpPolicy', env, verbose=1, tensorboard_log=log_path)"
   ]
  },
  {
   "cell_type": "code",
   "execution_count": null,
   "metadata": {},
   "outputs": [],
   "source": [
    "# Learn DQN model\n",
    "model.learn(total_timesteps=200000)"
   ]
  },
  {
   "cell_type": "code",
   "execution_count": null,
   "metadata": {},
   "outputs": [],
   "source": [
    "# Save the model\n",
    "dqn_path = os.path.join('Training', 'Saved Models', 'DQN_model')\n",
    "model.save(dqn_path)"
   ]
  },
  {
   "cell_type": "code",
   "execution_count": null,
   "metadata": {},
   "outputs": [],
   "source": [
    "# Load the model\n",
    "model = DQN.load(dqn_path, env=env)"
   ]
  },
  {
   "cell_type": "code",
   "execution_count": null,
   "metadata": {},
   "outputs": [],
   "source": [
    "# Train again the same DQN model\n",
    "env = gym.make(environment_name)\n",
    "model.learn(total_timesteps=200000)"
   ]
  },
  {
   "cell_type": "code",
   "execution_count": null,
   "metadata": {},
   "outputs": [],
   "source": [
    "# Train best DQN model\n",
    "env = gym.make(environment_name)\n",
    "stop_callback = StopTrainingOnRewardThreshold(reward_threshold=300, verbose=1)\n",
    "eval_callback = EvalCallback(env,\n",
    "                             callback_on_new_best=stop_callback,\n",
    "                             eval_freq=10000,\n",
    "                             verbose=1)\n",
    "dqn_path = os.path.join('Training', 'Saved Models', 'DQN_best')\n",
    "model = DQN.load(dqn_path, env=env)\n",
    "model.learn(total_timesteps=200000, callback=eval_callback)\n",
    "model.save(dqn_path)"
   ]
  },
  {
   "cell_type": "code",
   "execution_count": null,
   "metadata": {},
   "outputs": [],
   "source": [
    "# Test agent\n",
    "# Test model in five episodes\n",
    "# dqn_path = os.path.join('Training', 'Saved Models', 'DQN_model')\n",
    "dqn_path = os.path.join('Training', 'Saved Models', 'DQN_best')\n",
    "environment_name = 'CartPole-v1'\n",
    "env = gym.make(environment_name, render_mode='human')\n",
    "env = DummyVecEnv({lambda: env})\n",
    "model = DQN.load(dqn_path, env=env)\n",
    "episodes = 5\n",
    "\n",
    "for episode in range(1, episodes + 1):\n",
    "    obs = env.reset()\n",
    "    done = False\n",
    "    score = 0\n",
    "    while not done:\n",
    "        action, _states = model.predict(obs)  # Use our model here\n",
    "        obs, reward, done, info = env.step(action)\n",
    "        score += reward\n",
    "        env.render()\n",
    "    print('Episode: {} Score: {}'.format(episode, score))"
   ]
  },
  {
   "cell_type": "code",
   "execution_count": null,
   "metadata": {},
   "outputs": [],
   "source": [
    "env = gym.make(environment_name, render_mode='human')\n",
    "evaluate_policy(model, env, n_eval_episodes=10, render=True)"
   ]
  },
  {
   "cell_type": "code",
   "execution_count": null,
   "metadata": {},
   "outputs": [],
   "source": [
    "env.close()"
   ]
  }
 ],
 "metadata": {
  "kernelspec": {
   "display_name": ".venv",
   "language": "python",
   "name": "python3"
  },
  "language_info": {
   "codemirror_mode": {
    "name": "ipython",
    "version": 3
   },
   "file_extension": ".py",
   "mimetype": "text/x-python",
   "name": "python",
   "nbconvert_exporter": "python",
   "pygments_lexer": "ipython3",
   "version": "3.11.4"
  },
  "orig_nbformat": 4
 },
 "nbformat": 4,
 "nbformat_minor": 2
}
